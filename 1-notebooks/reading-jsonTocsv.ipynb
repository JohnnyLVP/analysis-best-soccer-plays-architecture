{
 "cells": [
  {
   "cell_type": "markdown",
   "id": "d6fc766c-5f38-4f8f-9e27-c5d80253d640",
   "metadata": {},
   "source": [
    "### Descripcion \n",
    "\n",
    "El siguiente codigo es para poder transformar los archivos json en csv\n"
   ]
  },
  {
   "cell_type": "code",
   "execution_count": 1,
   "id": "8f26cf4e-ffd3-4371-91fd-e6b70a2a3932",
   "metadata": {},
   "outputs": [],
   "source": [
    "import pandas as pd\n",
    "from glob import glob\n",
    "import json"
   ]
  },
  {
   "cell_type": "markdown",
   "id": "88c80040-7016-457b-bc76-f73530fd5dcd",
   "metadata": {},
   "source": [
    "## Reading Competitions"
   ]
  },
  {
   "cell_type": "code",
   "execution_count": 8,
   "id": "2e5c1f1d-f404-4d33-819c-e78f2e599742",
   "metadata": {},
   "outputs": [],
   "source": [
    "competitionsFile = \"open-data-master/data/competitions.json\"\n",
    "competitionsFileCsv = \"open-data-master/data-csv\""
   ]
  },
  {
   "cell_type": "code",
   "execution_count": 9,
   "id": "799fe8cd-b0ba-430e-8d28-d6cd645a4350",
   "metadata": {},
   "outputs": [],
   "source": [
    "dfCompetitions = pd.read_json(competitionsFile)"
   ]
  },
  {
   "cell_type": "code",
   "execution_count": 10,
   "id": "7b1ccada-e538-4ca9-85df-480974336161",
   "metadata": {},
   "outputs": [],
   "source": [
    "dfCompetitions.to_csv(f\"{competitionsFileCsv}/competitionsDf.csv\", sep=\",\", header=True, doublequote=True, decimal='.', index=False)"
   ]
  },
  {
   "cell_type": "markdown",
   "id": "2f3d495e-7126-4c86-abf1-614aea39693c",
   "metadata": {},
   "source": [
    "## Reading LineUps"
   ]
  },
  {
   "cell_type": "code",
   "execution_count": 3,
   "id": "d0c70a5c-bdc8-4b5a-8080-a2fe82a77e85",
   "metadata": {},
   "outputs": [],
   "source": [
    "lineupsFiles = \"open-data-master/data/lineups/*.json\"\n",
    "lineupsFileCsv = \"open-data-master/data-csv\""
   ]
  },
  {
   "cell_type": "code",
   "execution_count": 49,
   "id": "74e22db8-1984-47ad-9856-a9a16e52fb01",
   "metadata": {},
   "outputs": [],
   "source": [
    "df_array = []\n",
    "for f_name in glob(lineupsFiles):\n",
    "    f = open (f_name, \"r\")\n",
    "    df = pd.json_normalize(json.loads(f.read()), \n",
    "                            record_path =['lineup'] \n",
    "                            #meta=['team_id', 'team_name']\n",
    "                        )\n",
    "    df_array.append(df)"
   ]
  },
  {
   "cell_type": "code",
   "execution_count": 46,
   "id": "ef05f02a-044d-4e6d-8d9d-9124a27efa5b",
   "metadata": {},
   "outputs": [],
   "source": [
    "df_concat = pd.concat(df_array)"
   ]
  },
  {
   "cell_type": "code",
   "execution_count": 44,
   "id": "846e04d5-ff71-476f-b889-067771b2d3fa",
   "metadata": {},
   "outputs": [],
   "source": [
    "df_concat.to_csv(f\"{lineupsFileCsv}/lineupsDf.csv\", sep=\",\", header=True, doublequote=True, decimal='.', index=False)"
   ]
  },
  {
   "cell_type": "markdown",
   "id": "9e951bf4-55fc-46c7-8e6a-b3711e55ca57",
   "metadata": {},
   "source": [
    "## Reading Events"
   ]
  },
  {
   "cell_type": "code",
   "execution_count": 74,
   "id": "0cbe2ebb-2000-4aa3-b334-ba9fea3f4bba",
   "metadata": {},
   "outputs": [],
   "source": [
    "eventsFiles = \"open-data-master/data/events/*.json\"\n",
    "eventsFileCsv = \"open-data-master/data-csv\""
   ]
  },
  {
   "cell_type": "code",
   "execution_count": 57,
   "id": "16a42636-a8a6-424e-aaa8-9ca259c06889",
   "metadata": {},
   "outputs": [],
   "source": [
    "df_array = []\n",
    "for f_name in glob(eventsFiles):\n",
    "    f = open (f_name, \"r\")\n",
    "    df = pd.json_normalize(json.loads(f.read()) \n",
    "                            #record_path =['lineup'] \n",
    "                            #meta=['team_id', 'team_name']\n",
    "                        )\n",
    "    df_array.append(df)"
   ]
  },
  {
   "cell_type": "code",
   "execution_count": 59,
   "id": "3076089a-67f2-4605-8bb6-80342da761f2",
   "metadata": {},
   "outputs": [],
   "source": [
    "df_concat_events = pd.concat(df_array)"
   ]
  },
  {
   "cell_type": "code",
   "execution_count": null,
   "id": "7132b6bd-d53a-4e6c-87df-5d067789f9cd",
   "metadata": {},
   "outputs": [],
   "source": [
    "df_concat_events.to_csv(f\"{eventsFileCsv}/eventsDf.csv\", sep=\",\", header=True, doublequote=True, decimal='.', index=False)"
   ]
  },
  {
   "cell_type": "markdown",
   "id": "1488798a-3b5f-4bdc-9315-c4bd1166349f",
   "metadata": {
    "tags": []
   },
   "source": [
    "## Matches"
   ]
  },
  {
   "cell_type": "code",
   "execution_count": 69,
   "id": "c62e7b5a-800b-4408-9a9c-00962bf223af",
   "metadata": {},
   "outputs": [],
   "source": [
    "from glob import iglob"
   ]
  },
  {
   "cell_type": "code",
   "execution_count": 75,
   "id": "5ea71660-9e09-4883-8b10-e8e0d58a9a52",
   "metadata": {},
   "outputs": [],
   "source": [
    "matchesFiles = \"open-data-master/data/matches/**/*.json\"\n",
    "matchesFileCsv = \"open-data-master/data-csv\""
   ]
  },
  {
   "cell_type": "code",
   "execution_count": 79,
   "id": "0bb076bc-f095-4e33-a4e6-0215cab290da",
   "metadata": {},
   "outputs": [],
   "source": [
    "df_array = []\n",
    "for f_name in iglob(matchesFiles, recursive=True): \n",
    "    f = open (f_name, \"r\")\n",
    "    df = pd.json_normalize(json.loads(f.read()) \n",
    "                            #record_path =['lineup'] \n",
    "                            #meta=['team_id', 'team_name']\n",
    "                        )\n",
    "    df_array.append(df)"
   ]
  },
  {
   "cell_type": "code",
   "execution_count": 80,
   "id": "acc474ce-1e8c-4b36-a1cc-28f30544f14b",
   "metadata": {},
   "outputs": [],
   "source": [
    "df_concat_matches = pd.concat(df_array)"
   ]
  },
  {
   "cell_type": "code",
   "execution_count": 82,
   "id": "6574c607-be13-4751-afef-f15a44986f12",
   "metadata": {},
   "outputs": [],
   "source": [
    "df_concat_matches.to_csv(f\"{matchesFileCsv}/matchesDf.csv\", sep=\",\", header=True, doublequote=True, decimal='.', index=False)"
   ]
  },
  {
   "cell_type": "markdown",
   "id": "b56c2388-eb16-42cb-b6aa-a90d3409255c",
   "metadata": {},
   "source": [
    "## Three Sixty"
   ]
  },
  {
   "cell_type": "code",
   "execution_count": 2,
   "id": "fc5eddc4-0f3a-413b-8bfb-05e81a5d717d",
   "metadata": {},
   "outputs": [],
   "source": [
    "threeSixtyFiles = \"open-data-master/data/three-sixty/*.json\"\n",
    "threeSixtyFileCsv = \"open-data-master/data-csv\""
   ]
  },
  {
   "cell_type": "code",
   "execution_count": 3,
   "id": "eea55dbc-d855-4647-8c7e-58b138511683",
   "metadata": {},
   "outputs": [],
   "source": [
    "df_array = []\n",
    "for f_name in glob(threeSixtyFiles):\n",
    "    f = open (f_name, \"r\")\n",
    "    df = pd.json_normalize(json.loads(f.read()) \n",
    "                            #record_path =['lineup'] \n",
    "                            #meta=['team_id', 'team_name']\n",
    "                        )\n",
    "    df_array.append(df)"
   ]
  },
  {
   "cell_type": "code",
   "execution_count": 4,
   "id": "9484d4f4-5b4f-4121-8489-6f9de957e456",
   "metadata": {},
   "outputs": [
    {
     "ename": "ValueError",
     "evalue": "No objects to concatenate",
     "output_type": "error",
     "traceback": [
      "\u001b[0;31m---------------------------------------------------------------------------\u001b[0m",
      "\u001b[0;31mValueError\u001b[0m                                Traceback (most recent call last)",
      "\u001b[0;32m/var/folders/f4/xgxbfgyd78l0z48nck9l57zh0000gn/T/ipykernel_26298/526403873.py\u001b[0m in \u001b[0;36m<module>\u001b[0;34m\u001b[0m\n\u001b[0;32m----> 1\u001b[0;31m \u001b[0mdf_concat_threesixty\u001b[0m \u001b[0;34m=\u001b[0m \u001b[0mpd\u001b[0m\u001b[0;34m.\u001b[0m\u001b[0mconcat\u001b[0m\u001b[0;34m(\u001b[0m\u001b[0mdf_array\u001b[0m\u001b[0;34m)\u001b[0m\u001b[0;34m\u001b[0m\u001b[0;34m\u001b[0m\u001b[0m\n\u001b[0m",
      "\u001b[0;32m/Library/Frameworks/Python.framework/Versions/3.9/lib/python3.9/site-packages/pandas/util/_decorators.py\u001b[0m in \u001b[0;36mwrapper\u001b[0;34m(*args, **kwargs)\u001b[0m\n\u001b[1;32m    329\u001b[0m                     \u001b[0mstacklevel\u001b[0m\u001b[0;34m=\u001b[0m\u001b[0mfind_stack_level\u001b[0m\u001b[0;34m(\u001b[0m\u001b[0;34m)\u001b[0m\u001b[0;34m,\u001b[0m\u001b[0;34m\u001b[0m\u001b[0;34m\u001b[0m\u001b[0m\n\u001b[1;32m    330\u001b[0m                 )\n\u001b[0;32m--> 331\u001b[0;31m             \u001b[0;32mreturn\u001b[0m \u001b[0mfunc\u001b[0m\u001b[0;34m(\u001b[0m\u001b[0;34m*\u001b[0m\u001b[0margs\u001b[0m\u001b[0;34m,\u001b[0m \u001b[0;34m**\u001b[0m\u001b[0mkwargs\u001b[0m\u001b[0;34m)\u001b[0m\u001b[0;34m\u001b[0m\u001b[0;34m\u001b[0m\u001b[0m\n\u001b[0m\u001b[1;32m    332\u001b[0m \u001b[0;34m\u001b[0m\u001b[0m\n\u001b[1;32m    333\u001b[0m         \u001b[0;31m# error: \"Callable[[VarArg(Any), KwArg(Any)], Any]\" has no\u001b[0m\u001b[0;34m\u001b[0m\u001b[0;34m\u001b[0m\u001b[0;34m\u001b[0m\u001b[0m\n",
      "\u001b[0;32m/Library/Frameworks/Python.framework/Versions/3.9/lib/python3.9/site-packages/pandas/core/reshape/concat.py\u001b[0m in \u001b[0;36mconcat\u001b[0;34m(objs, axis, join, ignore_index, keys, levels, names, verify_integrity, sort, copy)\u001b[0m\n\u001b[1;32m    366\u001b[0m     \u001b[0;36m1\u001b[0m   \u001b[0;36m3\u001b[0m   \u001b[0;36m4\u001b[0m\u001b[0;34m\u001b[0m\u001b[0;34m\u001b[0m\u001b[0m\n\u001b[1;32m    367\u001b[0m     \"\"\"\n\u001b[0;32m--> 368\u001b[0;31m     op = _Concatenator(\n\u001b[0m\u001b[1;32m    369\u001b[0m         \u001b[0mobjs\u001b[0m\u001b[0;34m,\u001b[0m\u001b[0;34m\u001b[0m\u001b[0;34m\u001b[0m\u001b[0m\n\u001b[1;32m    370\u001b[0m         \u001b[0maxis\u001b[0m\u001b[0;34m=\u001b[0m\u001b[0maxis\u001b[0m\u001b[0;34m,\u001b[0m\u001b[0;34m\u001b[0m\u001b[0;34m\u001b[0m\u001b[0m\n",
      "\u001b[0;32m/Library/Frameworks/Python.framework/Versions/3.9/lib/python3.9/site-packages/pandas/core/reshape/concat.py\u001b[0m in \u001b[0;36m__init__\u001b[0;34m(self, objs, axis, join, keys, levels, names, ignore_index, verify_integrity, copy, sort)\u001b[0m\n\u001b[1;32m    423\u001b[0m \u001b[0;34m\u001b[0m\u001b[0m\n\u001b[1;32m    424\u001b[0m         \u001b[0;32mif\u001b[0m \u001b[0mlen\u001b[0m\u001b[0;34m(\u001b[0m\u001b[0mobjs\u001b[0m\u001b[0;34m)\u001b[0m \u001b[0;34m==\u001b[0m \u001b[0;36m0\u001b[0m\u001b[0;34m:\u001b[0m\u001b[0;34m\u001b[0m\u001b[0;34m\u001b[0m\u001b[0m\n\u001b[0;32m--> 425\u001b[0;31m             \u001b[0;32mraise\u001b[0m \u001b[0mValueError\u001b[0m\u001b[0;34m(\u001b[0m\u001b[0;34m\"No objects to concatenate\"\u001b[0m\u001b[0;34m)\u001b[0m\u001b[0;34m\u001b[0m\u001b[0;34m\u001b[0m\u001b[0m\n\u001b[0m\u001b[1;32m    426\u001b[0m \u001b[0;34m\u001b[0m\u001b[0m\n\u001b[1;32m    427\u001b[0m         \u001b[0;32mif\u001b[0m \u001b[0mkeys\u001b[0m \u001b[0;32mis\u001b[0m \u001b[0;32mNone\u001b[0m\u001b[0;34m:\u001b[0m\u001b[0;34m\u001b[0m\u001b[0;34m\u001b[0m\u001b[0m\n",
      "\u001b[0;31mValueError\u001b[0m: No objects to concatenate"
     ]
    }
   ],
   "source": [
    "df_concat_threesixty = pd.concat(df_array)"
   ]
  },
  {
   "cell_type": "code",
   "execution_count": 90,
   "id": "3e58e678-d04a-49b0-8dd6-6d2d20daefff",
   "metadata": {},
   "outputs": [],
   "source": [
    "df_concat_threesixty.to_csv(f\"{threeSixtyFileCsv}/threeSixtyDf.csv\", sep=\",\", header=True, doublequote=True, decimal='.', index=False)"
   ]
  },
  {
   "cell_type": "code",
   "execution_count": 93,
   "id": "a2e3cad3-bdfc-4f0c-895a-69422f59965b",
   "metadata": {},
   "outputs": [],
   "source": [
    "df_array[0].to_csv(f\"{threeSixtyFileCsv}/threeSixtyDf0.csv\", sep=\",\", header=True, doublequote=True, decimal='.', index=False)"
   ]
  }
 ],
 "metadata": {
  "kernelspec": {
   "display_name": "Python 3 (ipykernel)",
   "language": "python",
   "name": "python3"
  },
  "language_info": {
   "codemirror_mode": {
    "name": "ipython",
    "version": 3
   },
   "file_extension": ".py",
   "mimetype": "text/x-python",
   "name": "python",
   "nbconvert_exporter": "python",
   "pygments_lexer": "ipython3",
   "version": "3.9.5"
  }
 },
 "nbformat": 4,
 "nbformat_minor": 5
}
