{
 "cells": [
  {
   "cell_type": "code",
   "execution_count": 1,
   "metadata": {},
   "outputs": [],
   "source": [
    "import pandas as pd\n",
    "import awswrangler as pd"
   ]
  },
  {
   "cell_type": "code",
   "execution_count": 2,
   "metadata": {},
   "outputs": [],
   "source": [
    "import logging\n",
    "\n",
    "def init_logger(file_name, log_level=None):\n",
    "    if not log_level:\n",
    "        log_level = \"INFO\"\n",
    "    logging.basicConfig()\n",
    "    logger = logging.getLogger(file_name)\n",
    "    logger.setLevel(getattr(logging, log_level))\n",
    "    return logger\n",
    "\n",
    "logger = init_logger(__name__)"
   ]
  },
  {
   "cell_type": "code",
   "execution_count": null,
   "metadata": {},
   "outputs": [],
   "source": [
    "myProfile = 'master-env'\n",
    "mySession = boto3.session.Session(profile_name=myProfile)\n",
    "ssmClient = mySession.client('ssm', region_name = 'us-east-1')"
   ]
  }
 ],
 "metadata": {
  "kernelspec": {
   "display_name": "Python 3 (ipykernel)",
   "language": "python",
   "name": "python3"
  },
  "language_info": {
   "codemirror_mode": {
    "name": "ipython",
    "version": 3
   },
   "file_extension": ".py",
   "mimetype": "text/x-python",
   "name": "python",
   "nbconvert_exporter": "python",
   "pygments_lexer": "ipython3",
   "version": "3.9.15"
  },
  "orig_nbformat": 4
 },
 "nbformat": 4,
 "nbformat_minor": 2
}
